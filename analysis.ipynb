{
 "cells": [
  {
   "cell_type": "markdown",
   "metadata": {
    "_uuid": "3ce2b3bf606c3bf06d9f61249f580a55812f9e42"
   },
   "source": [
    "# Step 1 : importing Essential Libraries"
   ]
  },
  {
   "cell_type": "code",
   "execution_count": 7,
   "metadata": {
    "_cell_guid": "b1076dfc-b9ad-4769-8c92-a6c4dae69d19",
    "_uuid": "8f2839f25d086af736a60e9eeb907d3b93b6e0e5"
   },
   "outputs": [
    {
     "output_type": "stream",
     "name": "stderr",
     "text": "Using TensorFlow backend.\n"
    }
   ],
   "source": [
    "%matplotlib inline\n",
    "import matplotlib.pyplot as plt\n",
    "import numpy as np\n",
    "import pandas as pd\n",
    "import os\n",
    "from glob import glob\n",
    "import seaborn as sns\n",
    "from PIL import Image\n",
    "np.random.seed(123)\n",
    "from sklearn.preprocessing import label_binarize\n",
    "from sklearn.metrics import confusion_matrix\n",
    "import itertools\n",
    "\n",
    "import keras\n",
    "from keras.utils.np_utils import to_categorical # used for converting labels to one-hot-encoding\n",
    "from keras.models import Sequential\n",
    "from keras.layers import Dense, Dropout, Flatten, Conv2D, MaxPool2D\n",
    "from keras import backend as K\n",
    "import itertools\n",
    "from keras.layers.normalization import BatchNormalization\n",
    "from keras.utils.np_utils import to_categorical # convert to one-hot-encoding\n",
    "\n",
    "from keras.optimizers import Adam\n",
    "from keras.preprocessing.image import ImageDataGenerator\n",
    "from keras.callbacks import ReduceLROnPlateau\n",
    "from sklearn.model_selection import train_test_split"
   ]
  },
  {
   "cell_type": "code",
   "execution_count": 8,
   "metadata": {
    "_uuid": "03a061e80db267cf498df46c6fab5b2d6f44b7d8"
   },
   "outputs": [],
   "source": [
    "#1. Function to plot model's validation loss and validation accuracy\n",
    "def plot_model_history(model_history):\n",
    "    fig, axs = plt.subplots(1,2,figsize=(15,5))\n",
    "    # summarize history for accuracy\n",
    "    axs[0].plot(range(1,len(model_history.history['acc'])+1),model_history.history['acc'])\n",
    "    axs[0].plot(range(1,len(model_history.history['val_acc'])+1),model_history.history['val_acc'])\n",
    "    axs[0].set_title('Model Accuracy')\n",
    "    axs[0].set_ylabel('Accuracy')\n",
    "    axs[0].set_xlabel('Epoch')\n",
    "    axs[0].set_xticks(np.arange(1,len(model_history.history['acc'])+1),len(model_history.history['acc'])/10)\n",
    "    axs[0].legend(['train', 'val'], loc='best')\n",
    "    # summarize history for loss\n",
    "    axs[1].plot(range(1,len(model_history.history['loss'])+1),model_history.history['loss'])\n",
    "    axs[1].plot(range(1,len(model_history.history['val_loss'])+1),model_history.history['val_loss'])\n",
    "    axs[1].set_title('Model Loss')\n",
    "    axs[1].set_ylabel('Loss')\n",
    "    axs[1].set_xlabel('Epoch')\n",
    "    axs[1].set_xticks(np.arange(1,len(model_history.history['loss'])+1),len(model_history.history['loss'])/10)\n",
    "    axs[1].legend(['train', 'val'], loc='best')\n",
    "    plt.show()\n",
    ""
   ]
  },
  {
   "cell_type": "markdown",
   "metadata": {
    "_uuid": "c170def1ed6bd1e279dc6d5ae86a95cf6cfd2efb"
   },
   "source": [
    "# Step 2 : Making Dictionary of images and labels\n",
    "In this step I have made the image path dictionary by joining the folder path from base directory base_skin_dir and merge the images in jpg format from both the folders HAM10000_images_part1.zip and HAM10000_images_part2.zip"
   ]
  },
  {
   "cell_type": "code",
   "execution_count": 9,
   "metadata": {
    "_cell_guid": "79c7e3d0-c299-4dcb-8224-4455121ee9b0",
    "_uuid": "d629ff2d2480ee46fbb7e2d37f6b5fab8052498a"
   },
   "outputs": [],
   "source": [
    "base_skin_dir = os.path.join('data')\n",
    "\n",
    "# Merging images from both folders HAM10000_images_part1.zip and HAM10000_images_part2.zip into one dictionary\n",
    "\n",
    "imageid_path_dict = {os.path.splitext(os.path.basename(x))[0]: x\n",
    "                     for x in glob(os.path.join(base_skin_dir, '*', '*.jpg'))}\n",
    "\n",
    "# This dictionary is useful for displaying more human-friendly labels later on\n",
    "\n",
    "lesion_type_dict = {\n",
    "    'nv': 'Melanocytic nevi',\n",
    "    'mel': 'Melanoma',\n",
    "    'bkl': 'Benign keratosis-like lesions ',\n",
    "    'bcc': 'Basal cell carcinoma',\n",
    "    'akiec': 'Actinic keratoses',\n",
    "    'vasc': 'Vascular lesions',\n",
    "    'df': 'Dermatofibroma'\n",
    "}"
   ]
  },
  {
   "cell_type": "markdown",
   "metadata": {
    "_uuid": "81603d003c5cea8f6e76a1bb69aa4c29a89eebc8"
   },
   "source": [
    "# Step 3 : Reading & Processing data\n",
    "\n",
    "In this step we have read the csv by joining the path of image folder which is the base folder where all the images are placed named base_skin_dir.\n",
    "After that we made some new columns which is easily understood for later reference such as we have made column path which contains the image_id, cell_type which contains the short name of lesion type and at last we have made the categorical column cell_type_idx in which we have categorize the lesion type in to codes from 0 to 6"
   ]
  },
  {
   "cell_type": "code",
   "execution_count": 10,
   "metadata": {
    "_uuid": "68f34a08751a6e16569818ce8b18d9fca93223ad"
   },
   "outputs": [],
   "source": [
    "\n",
    "\n",
    "skin_df = pd.read_csv(os.path.join(base_skin_dir, 'HAM10000_metadata.csv'))\n",
    "\n",
    "# Creating New Columns for better readability\n",
    "\n",
    "skin_df['path'] = skin_df['image_id'].map(imageid_path_dict.get)\n",
    "skin_df['cell_type'] = skin_df['dx'].map(lesion_type_dict.get) \n",
    "skin_df['cell_type_idx'] = pd.Categorical(skin_df['cell_type']).codes\n",
    ""
   ]
  },
  {
   "cell_type": "code",
   "execution_count": 11,
   "metadata": {
    "_uuid": "0de2d23671ac649a0e20f426fb891a4e8f7e903a"
   },
   "outputs": [
    {
     "output_type": "execute_result",
     "data": {
      "text/html": "<div>\n<style scoped>\n    .dataframe tbody tr th:only-of-type {\n        vertical-align: middle;\n    }\n\n    .dataframe tbody tr th {\n        vertical-align: top;\n    }\n\n    .dataframe thead th {\n        text-align: right;\n    }\n</style>\n<table border=\"1\" class=\"dataframe\">\n  <thead>\n    <tr style=\"text-align: right;\">\n      <th></th>\n      <th>lesion_id</th>\n      <th>image_id</th>\n      <th>dx</th>\n      <th>dx_type</th>\n      <th>age</th>\n      <th>sex</th>\n      <th>localization</th>\n      <th>path</th>\n      <th>cell_type</th>\n      <th>cell_type_idx</th>\n    </tr>\n  </thead>\n  <tbody>\n    <tr>\n      <th>0</th>\n      <td>HAM_0000118</td>\n      <td>ISIC_0027419</td>\n      <td>bkl</td>\n      <td>histo</td>\n      <td>80.0</td>\n      <td>male</td>\n      <td>scalp</td>\n      <td>data/HAM10000_images_part_1/ISIC_0027419.jpg</td>\n      <td>Benign keratosis-like lesions</td>\n      <td>2</td>\n    </tr>\n    <tr>\n      <th>1</th>\n      <td>HAM_0000118</td>\n      <td>ISIC_0025030</td>\n      <td>bkl</td>\n      <td>histo</td>\n      <td>80.0</td>\n      <td>male</td>\n      <td>scalp</td>\n      <td>data/HAM10000_images_part_1/ISIC_0025030.jpg</td>\n      <td>Benign keratosis-like lesions</td>\n      <td>2</td>\n    </tr>\n    <tr>\n      <th>2</th>\n      <td>HAM_0002730</td>\n      <td>ISIC_0026769</td>\n      <td>bkl</td>\n      <td>histo</td>\n      <td>80.0</td>\n      <td>male</td>\n      <td>scalp</td>\n      <td>data/HAM10000_images_part_1/ISIC_0026769.jpg</td>\n      <td>Benign keratosis-like lesions</td>\n      <td>2</td>\n    </tr>\n    <tr>\n      <th>3</th>\n      <td>HAM_0002730</td>\n      <td>ISIC_0025661</td>\n      <td>bkl</td>\n      <td>histo</td>\n      <td>80.0</td>\n      <td>male</td>\n      <td>scalp</td>\n      <td>data/HAM10000_images_part_1/ISIC_0025661.jpg</td>\n      <td>Benign keratosis-like lesions</td>\n      <td>2</td>\n    </tr>\n    <tr>\n      <th>4</th>\n      <td>HAM_0001466</td>\n      <td>ISIC_0031633</td>\n      <td>bkl</td>\n      <td>histo</td>\n      <td>75.0</td>\n      <td>male</td>\n      <td>ear</td>\n      <td>data/HAM10000_images_part_2/ISIC_0031633.jpg</td>\n      <td>Benign keratosis-like lesions</td>\n      <td>2</td>\n    </tr>\n  </tbody>\n</table>\n</div>",
      "text/plain": "     lesion_id      image_id   dx dx_type   age   sex localization  \\\n0  HAM_0000118  ISIC_0027419  bkl   histo  80.0  male        scalp   \n1  HAM_0000118  ISIC_0025030  bkl   histo  80.0  male        scalp   \n2  HAM_0002730  ISIC_0026769  bkl   histo  80.0  male        scalp   \n3  HAM_0002730  ISIC_0025661  bkl   histo  80.0  male        scalp   \n4  HAM_0001466  ISIC_0031633  bkl   histo  75.0  male          ear   \n\n                                           path  \\\n0  data/HAM10000_images_part_1/ISIC_0027419.jpg   \n1  data/HAM10000_images_part_1/ISIC_0025030.jpg   \n2  data/HAM10000_images_part_1/ISIC_0026769.jpg   \n3  data/HAM10000_images_part_1/ISIC_0025661.jpg   \n4  data/HAM10000_images_part_2/ISIC_0031633.jpg   \n\n                        cell_type  cell_type_idx  \n0  Benign keratosis-like lesions               2  \n1  Benign keratosis-like lesions               2  \n2  Benign keratosis-like lesions               2  \n3  Benign keratosis-like lesions               2  \n4  Benign keratosis-like lesions               2  "
     },
     "metadata": {},
     "execution_count": 11
    }
   ],
   "source": [
    "# Now lets see the sample of tile_df to look on newly made columns\n",
    "skin_df.head()"
   ]
  },
  {
   "cell_type": "markdown",
   "metadata": {
    "_uuid": "9a8277864a96024b0da585294397e965933f4f75"
   },
   "source": [
    "# Step 4 : Data Cleaning\n",
    "In this step we check for Missing values and datatype of each field "
   ]
  },
  {
   "cell_type": "code",
   "execution_count": null,
   "metadata": {
    "_uuid": "091723e3ecf2a032a873c1a9939a9788e5a47bcd"
   },
   "outputs": [],
   "source": [
    "skin_df.isnull().sum()"
   ]
  },
  {
   "cell_type": "markdown",
   "metadata": {
    "_uuid": "a621886714714d923e175b5d6103a7c8780ec92c"
   },
   "source": [
    "As it is evident from the above that only age has null values which is 57 so we will fill the null values by their mean."
   ]
  },
  {
   "cell_type": "code",
   "execution_count": null,
   "metadata": {
    "_uuid": "a5f4b33555008f83543bb867ec4ed7f5a4ff2e43"
   },
   "outputs": [],
   "source": [
    "skin_df['age'].fillna((skin_df['age'].mean()), inplace=True)"
   ]
  },
  {
   "cell_type": "markdown",
   "metadata": {
    "_uuid": "5bc2f6e2f475c890065469eec9fcf759b2d4b2c6"
   },
   "source": [
    "Now, lets check the presence of null values  again"
   ]
  },
  {
   "cell_type": "code",
   "execution_count": null,
   "metadata": {
    "_uuid": "1767c5491f1daa55c8a63e8b26dfa964726998d1"
   },
   "outputs": [],
   "source": [
    "skin_df.isnull().sum()"
   ]
  },
  {
   "cell_type": "code",
   "execution_count": null,
   "metadata": {
    "_uuid": "f701dda65f9f91f315fa899d6984b6e4ed71b490"
   },
   "outputs": [],
   "source": [
    "print(skin_df.dtypes)"
   ]
  },
  {
   "cell_type": "markdown",
   "metadata": {
    "_uuid": "759026191d74e7d94ac08d81121913d06a053a1d"
   },
   "source": [
    "# Step 5 : EDA\n",
    "In this we will explore different features of the dataset , their distrubtions and actual counts"
   ]
  },
  {
   "cell_type": "markdown",
   "metadata": {
    "_uuid": "26b2411336be49dbfa988dece2febfdba1f40d08"
   },
   "source": [
    "Plot to see distribution of 7 different classes of cell type"
   ]
  },
  {
   "cell_type": "code",
   "execution_count": null,
   "metadata": {
    "_uuid": "fc479dfe198cd5b781573f5c17c3a052d4fe196f"
   },
   "outputs": [],
   "source": [
    "fig, ax1 = plt.subplots(1, 1, figsize= (10, 5))\n",
    "skin_df['cell_type'].value_counts().plot(kind='bar', ax=ax1)"
   ]
  },
  {
   "cell_type": "markdown",
   "metadata": {
    "_uuid": "69aabd5c3892fd231b5a59295093816c404491f9"
   },
   "source": [
    "Its seems from the above plot that in this dataset cell type Melanecytic nevi has very large number of instances in comparison to other cell types"
   ]
  },
  {
   "cell_type": "markdown",
   "metadata": {
    "_uuid": "0da35254577f2ced80b74357142718c88fe2fc23"
   },
   "source": [
    "Plotting of Technical Validation field (ground truth) which is dx_type to see the distribution of its 4 categories which are listed below :<br>\n",
    "**1. Histopathology(Histo):**  Histopathologic diagnoses of excised lesions have been\n",
    "performed by specialized dermatopathologists. <br>\n",
    "**2. Confocal:** Reflectance confocal microscopy is an in-vivo imaging technique with a resolution at near-cellular level , and some facial benign with a grey-world assumption of all training-set images in Lab-color space before\n",
    "and after  manual histogram changes.<br>\n",
    "**3. Follow-up:** If nevi monitored by digital dermatoscopy did not show any changes during 3 follow-up visits or 1.5 years biologists  accepted this as evidence of biologic benignity. Only nevi, but no other benign diagnoses were labeled with this type of ground-truth because dermatologists usually do not monitor dermatofibromas, seborrheic keratoses, or vascular lesions. <br>\n",
    "**4. Consensus:** For typical benign cases without histopathology or followup biologists  provide an expert-consensus rating of authors PT and HK. They applied the consensus label only if both authors independently gave the same unequivocal benign diagnosis. Lesions with this type of groundtruth were usually photographed for educational reasons and did not need\n",
    "further follow-up or biopsy for confirmation.\n"
   ]
  },
  {
   "cell_type": "code",
   "execution_count": null,
   "metadata": {
    "_uuid": "574f2c782b7091305a7d921046a5a1843df09873"
   },
   "outputs": [],
   "source": [
    "skin_df['dx_type'].value_counts().plot(kind='bar')"
   ]
  },
  {
   "cell_type": "markdown",
   "metadata": {
    "_uuid": "6431d7eb231a5d95781b5e8d6bd1310ae0651845"
   },
   "source": [
    "Plotting the distribution of localization field "
   ]
  },
  {
   "cell_type": "code",
   "execution_count": null,
   "metadata": {
    "_uuid": "cfbcd68a065cd1abc003d14c8d3c6eb716379b8a"
   },
   "outputs": [],
   "source": [
    "skin_df['localization'].value_counts().plot(kind='bar')"
   ]
  },
  {
   "cell_type": "markdown",
   "metadata": {
    "_uuid": "c124326fdc4d314a0d259af1be1aa84f1929ff83"
   },
   "source": [
    "It seems back , lower extremity,trunk and upper extremity are heavily compromised regions of skin cancer "
   ]
  },
  {
   "cell_type": "markdown",
   "metadata": {
    "_uuid": "0fde8ae3f6b6c539c324ab8c0cae3d24628d1545"
   },
   "source": [
    "Now, check the distribution of Age"
   ]
  },
  {
   "cell_type": "code",
   "execution_count": null,
   "metadata": {
    "_uuid": "6c1097e45fb83a20d8c611cd40d443194d29c517"
   },
   "outputs": [],
   "source": [
    "skin_df['age'].hist(bins=40)"
   ]
  },
  {
   "cell_type": "markdown",
   "metadata": {
    "_uuid": "c32f703247867e0813bb00e781be5cc33b0f9d15"
   },
   "source": [
    "It seems that there are larger instances of patients having age from 30 to 60"
   ]
  },
  {
   "cell_type": "markdown",
   "metadata": {
    "_uuid": "99f16eba52d0f9beacbe7dc8696b82a5df74fa2f"
   },
   "source": [
    "Lets see the distribution of males and females"
   ]
  },
  {
   "cell_type": "code",
   "execution_count": null,
   "metadata": {
    "_uuid": "dab9e33ef4149e65017ba09189be91323525f761"
   },
   "outputs": [],
   "source": [
    "\n",
    "skin_df['sex'].value_counts().plot(kind='bar')"
   ]
  },
  {
   "cell_type": "markdown",
   "metadata": {
    "_uuid": "e6f83afbde1b2e200f887d7c7af7d4efd0f576ab"
   },
   "source": [
    "Now lets visualize agewise distribution of skin cancer types"
   ]
  },
  {
   "cell_type": "code",
   "execution_count": null,
   "metadata": {
    "_uuid": "247f579092e51a1424e38f8d3536badad7638c27"
   },
   "outputs": [],
   "source": [
    "sns.scatterplot('age','cell_type_idx',data=skin_df)"
   ]
  },
  {
   "cell_type": "markdown",
   "metadata": {
    "_uuid": "08f1498acb37964ad7e78c84eb528f2aab21be69"
   },
   "source": [
    "It seems that skin cancer types 0,1, 3 and 5 which are Melanocytic nevi,dermatofibroma,Basal cell carcinoma and Vascular lesions are not much prevalant below the age of 20 years "
   ]
  },
  {
   "cell_type": "markdown",
   "metadata": {
    "_uuid": "9761d0e5dc4a2a9951fd21b832860c81ce067e9b"
   },
   "source": [
    "Sexwise distribution of skin cancer type"
   ]
  },
  {
   "cell_type": "code",
   "execution_count": null,
   "metadata": {
    "_uuid": "bbe16ff852e4d0aa591481dbfd08df93ea819275"
   },
   "outputs": [],
   "source": [
    "sns.factorplot('sex','cell_type_idx',data=skin_df)"
   ]
  },
  {
   "cell_type": "markdown",
   "metadata": {
    "_uuid": "92f3186f6f1106f3ec491d99313b506eb514f011"
   },
   "source": [
    "# Step 6: Loading and resizing of images\n",
    "In this step images will be loaded into the column named image from the image path from the image folder. We also resize the images as the original dimension of images are 450 x 600 x3 which TensorFlow can't handle, so that's why we resize it into 100 x 75. As this step resize all the 10015 images dimensions into 100x 75 so be patient it will take some time."
   ]
  },
  {
   "cell_type": "code",
   "execution_count": null,
   "metadata": {
    "_uuid": "eea3ca5052d0b52b31336485258ca5f41089d980"
   },
   "outputs": [],
   "source": [
    "skin_df['image'] = skin_df['path'].map(lambda x: np.asarray(Image.open(x).resize((100,75))))"
   ]
  },
  {
   "cell_type": "code",
   "execution_count": null,
   "metadata": {
    "_uuid": "6b0728eb3b75623a4b181232f8c8a2617668045f"
   },
   "outputs": [],
   "source": [
    "skin_df.head()"
   ]
  },
  {
   "cell_type": "markdown",
   "metadata": {
    "_uuid": "c53e9c8b13ef01ab3e6fd94a448fa0c33b42262f"
   },
   "source": [
    "**As we can see image column has been added in its color format code** "
   ]
  },
  {
   "cell_type": "markdown",
   "metadata": {
    "_uuid": "dfed158580f3916f007e2208ffe35a4031e5fff9"
   },
   "source": [
    "Most interesting part its always better to see sample of images\n",
    "Below we will show images of each cancer type"
   ]
  },
  {
   "cell_type": "code",
   "execution_count": null,
   "metadata": {
    "_uuid": "f56069ceb60c2f1103684ca1c024fa5c48dffb4f"
   },
   "outputs": [],
   "source": [
    "n_samples = 5\n",
    "fig, m_axs = plt.subplots(7, n_samples, figsize = (4*n_samples, 3*7))\n",
    "for n_axs, (type_name, type_rows) in zip(m_axs, \n",
    "                                         skin_df.sort_values(['cell_type']).groupby('cell_type')):\n",
    "    n_axs[0].set_title(type_name)\n",
    "    for c_ax, (_, c_row) in zip(n_axs, type_rows.sample(n_samples, random_state=1234).iterrows()):\n",
    "        c_ax.imshow(c_row['image'])\n",
    "        c_ax.axis('off')\n",
    "fig.savefig('category_samples.png', dpi=300)"
   ]
  },
  {
   "cell_type": "code",
   "execution_count": null,
   "metadata": {
    "_uuid": "9f7d1941762e258ba69a0627189c6728c7e6203d"
   },
   "outputs": [],
   "source": [
    "# Checking the image size distribution\n",
    "skin_df['image'].map(lambda x: x.shape).value_counts()"
   ]
  },
  {
   "cell_type": "code",
   "execution_count": null,
   "metadata": {
    "_uuid": "04ae71131a85390f67afc736cd572a77d77f8cb0"
   },
   "outputs": [],
   "source": [
    "features=skin_df.drop(columns=['cell_type_idx'],axis=1)\n",
    "target=skin_df['cell_type_idx']"
   ]
  },
  {
   "cell_type": "markdown",
   "metadata": {
    "_uuid": "6e983d68b0a343bdf313ccb70c7cd38afd32c89b"
   },
   "source": [
    "# Step 7 : Train Test Split\n",
    "In this step we have splitted the dataset into training and testing set of 80:20 ratio"
   ]
  },
  {
   "cell_type": "code",
   "execution_count": null,
   "metadata": {
    "_uuid": "3fe1228e7657f49d7323adc36c865790e9ac05eb"
   },
   "outputs": [],
   "source": [
    "x_train_o, x_test_o, y_train_o, y_test_o = train_test_split(features, target, test_size=0.20,random_state=1234)"
   ]
  },
  {
   "cell_type": "markdown",
   "metadata": {
    "_uuid": "2d1c806e6c6e46916ffb40b5e2848c66c33ed719"
   },
   "source": [
    "# Step 8 : Normalization"
   ]
  },
  {
   "cell_type": "markdown",
   "metadata": {
    "_uuid": "0e93ca14260608cc778b7e784ecb501fb226de5e"
   },
   "source": [
    "I choosed to normalize the x_train, x_test by substracting from theor mean values and then dividing by thier standard deviation."
   ]
  },
  {
   "cell_type": "code",
   "execution_count": null,
   "metadata": {
    "_uuid": "cd19d9fa10edf4cd89f178db0291be76dbdcbfef"
   },
   "outputs": [],
   "source": [
    "x_train = np.asarray(x_train_o['image'].tolist())\n",
    "x_test = np.asarray(x_test_o['image'].tolist())\n",
    "\n",
    "x_train_mean = np.mean(x_train)\n",
    "x_train_std = np.std(x_train)\n",
    "\n",
    "x_test_mean = np.mean(x_test)\n",
    "x_test_std = np.std(x_test)\n",
    "\n",
    "x_train = (x_train - x_train_mean)/x_train_std\n",
    "x_test = (x_test - x_test_mean)/x_test_std"
   ]
  },
  {
   "cell_type": "markdown",
   "metadata": {
    "_uuid": "73783a09c84893277c34c194431deef120e8e470"
   },
   "source": [
    "# Step 9 : Label Encoding\n",
    "Labels are 7 different classes of skin cancer types from 0 to 6. We need to encode these lables to one hot vectors "
   ]
  },
  {
   "cell_type": "code",
   "execution_count": null,
   "metadata": {
    "_uuid": "392812e39f11353c68a45314b3a7d7308e6a9d13"
   },
   "outputs": [],
   "source": [
    "# Perform one-hot encoding on the labels\n",
    "y_train = to_categorical(y_train_o, num_classes = 7)\n",
    "y_test = to_categorical(y_test_o, num_classes = 7)"
   ]
  },
  {
   "cell_type": "markdown",
   "metadata": {
    "_uuid": "595ee1067d7f0c82ea07fdfec4ff9617d9d64d2c"
   },
   "source": [
    "# Step 10 : Splitting training and validation split\n",
    "I choosed to split the train set in two parts : a small fraction (10%) became the validation set which the model is evaluated and the rest (90%) is used to train the model."
   ]
  },
  {
   "cell_type": "code",
   "execution_count": null,
   "metadata": {
    "_uuid": "ed38171b197633a3cb7e0b1f596315456da2b2cf"
   },
   "outputs": [],
   "source": [
    "x_train, x_validate, y_train, y_validate = train_test_split(x_train, y_train, test_size = 0.1, random_state = 2)"
   ]
  },
  {
   "cell_type": "code",
   "execution_count": null,
   "metadata": {
    "_uuid": "9aa121fe6240bc4ef91df54b50862df61948b336"
   },
   "outputs": [],
   "source": [
    "# Reshape image in 3 dimensions (height = 75px, width = 100px , canal = 3)\n",
    "x_train = x_train.reshape(x_train.shape[0], *(75, 100, 3))\n",
    "x_test = x_test.reshape(x_test.shape[0], *(75, 100, 3))\n",
    "x_validate = x_validate.reshape(x_validate.shape[0], *(75, 100, 3))"
   ]
  },
  {
   "cell_type": "markdown",
   "metadata": {
    "_uuid": "857f705a561f046a1d63ffa17a8a0b1e8da16ff5"
   },
   "source": [
    "# Step 11: Model Building \n",
    "# CNN\n",
    "I used the Keras Sequential API, where you have just to add one layer at a time, starting from the input.\n",
    "\n",
    "The first is the convolutional (Conv2D) layer. It is like a set of learnable filters. I choosed to set 32 filters for the two firsts conv2D layers and 64 filters for the two last ones. Each filter transforms a part of the image (defined by the kernel size) using the kernel filter. The kernel filter matrix is applied on the whole image. Filters can be seen as a transformation of the image.\n",
    "\n",
    "The CNN can isolate features that are useful everywhere from these transformed images (feature maps).\n",
    "\n",
    "The second important layer in CNN is the pooling (MaxPool2D) layer. This layer simply acts as a downsampling filter. It looks at the 2 neighboring pixels and picks the maximal value. These are used to reduce computational cost, and to some extent also reduce overfitting. We have to choose the pooling size (i.e the area size pooled each time) more the pooling dimension is high, more the downsampling is important.\n",
    "\n",
    "Combining convolutional and pooling layers, CNN are able to combine local features and learn more global features of the image.\n",
    "\n",
    "Dropout is a regularization method, where a proportion of nodes in the layer are randomly ignored (setting their wieghts to zero) for each training sample. This drops randomly a propotion of the network and forces the network to learn features in a distributed way. This technique also improves generalization and reduces the overfitting.\n",
    "\n",
    "'relu' is the rectifier (activation function max(0,x). The rectifier activation function is used to add non linearity to the network.\n",
    "\n",
    "The Flatten layer is use to convert the final feature maps into a one single 1D vector. This flattening step is needed so that you can make use of fully connected layers after some convolutional/maxpool layers. It combines all the found local features of the previous convolutional layers.\n",
    "\n",
    "In the end i used the features in two fully-connected (Dense) layers which is just artificial an neural networks (ANN) classifier. In the last layer(Dense(10,activation=\"softmax\")) the net outputs distribution of probability of each class."
   ]
  },
  {
   "cell_type": "code",
   "execution_count": null,
   "metadata": {
    "_uuid": "2d1658a1c2ea5379e1e2064f7fcd5ff1313046a4"
   },
   "outputs": [],
   "source": [
    "# Set the CNN model \n",
    "# my CNN architechture is In -> [[Conv2D->relu]*2 -> MaxPool2D -> Dropout]*2 -> Flatten -> Dense -> Dropout -> Out\n",
    "input_shape = (75, 100, 3)\n",
    "num_classes = 7\n",
    "\n",
    "model = Sequential()\n",
    "model.add(Conv2D(32, kernel_size=(3, 3),activation='relu',padding = 'Same',input_shape=input_shape))\n",
    "model.add(Conv2D(32,kernel_size=(3, 3), activation='relu',padding = 'Same',))\n",
    "model.add(MaxPool2D(pool_size = (2, 2)))\n",
    "model.add(Dropout(0.25))\n",
    "\n",
    "model.add(Conv2D(64, (3, 3), activation='relu',padding = 'Same'))\n",
    "model.add(Conv2D(64, (3, 3), activation='relu',padding = 'Same'))\n",
    "model.add(MaxPool2D(pool_size=(2, 2)))\n",
    "model.add(Dropout(0.40))\n",
    "\n",
    "model.add(Flatten())\n",
    "model.add(Dense(128, activation='relu'))\n",
    "model.add(Dropout(0.5))\n",
    "model.add(Dense(num_classes, activation='softmax'))\n",
    "model.summary()"
   ]
  },
  {
   "cell_type": "markdown",
   "metadata": {
    "_uuid": "e08855b5e5cad917a627b310748a10093395d8f3"
   },
   "source": [
    "# Step 12: Setting Optimizer and Annealer\n",
    "\n",
    "Once our layers are added to the model, we need to set up a score function, a loss function and an optimisation algorithm.\n",
    "We define the loss function to measure how poorly our model performs on images with known labels. It is the error rate between the oberved labels and the predicted ones. We use a specific form for categorical classifications (>2 classes) called the \"categorical_crossentropy\".\n",
    "The most important function is the optimizer. This function will iteratively improve parameters (filters kernel values, weights and bias of neurons ...) in order to minimise the loss.\n",
    "I choosed Adam optimizer because it combines the advantages of two other extensions of stochastic gradient descent. Specifically:\n",
    "\n",
    "1. Adaptive Gradient Algorithm (AdaGrad) that maintains a per-parameter learning rate that improves performance on problems with sparse gradients (e.g. natural language and computer vision problems).\n",
    "\n",
    "2. Root Mean Square Propagation (RMSProp) that also maintains per-parameter learning rates that are adapted based on the average of recent magnitudes of the gradients for the weight (e.g. how quickly it is changing). This means the algorithm does well on online and non-stationary problems (e.g. noisy).\n",
    "\n",
    "Adam realizes the benefits of both AdaGrad and RMSProp.\n",
    "\n",
    "Adam is a popular algorithm in the field of deep learning because it achieves good results fast.\n",
    "\n",
    "The metric function \"accuracy\" is used is to evaluate the performance our model. This metric function is similar to the loss function, except that the results from the metric evaluation are not used when training the model (only for evaluation)."
   ]
  },
  {
   "cell_type": "code",
   "execution_count": null,
   "metadata": {
    "_uuid": "c754af8f1d34d3cfb6adb93e6824b5a5e6dc8506"
   },
   "outputs": [],
   "source": [
    "# Define the optimizer\n",
    "optimizer = Adam(lr=0.001, beta_1=0.9, beta_2=0.999, epsilon=None, decay=0.0, amsgrad=False)"
   ]
  },
  {
   "cell_type": "code",
   "execution_count": null,
   "metadata": {
    "_uuid": "c34b677f1a804669e6e01042d0f15b3f29675e1b"
   },
   "outputs": [],
   "source": [
    "# Compile the model\n",
    "model.compile(optimizer = optimizer , loss = \"categorical_crossentropy\", metrics=[\"accuracy\"])"
   ]
  },
  {
   "cell_type": "code",
   "execution_count": null,
   "metadata": {
    "_uuid": "11526af016938dab9e9799cdb13fae7f353ca7fb"
   },
   "outputs": [],
   "source": [
    "# Set a learning rate annealer\n",
    "learning_rate_reduction = ReduceLROnPlateau(monitor='val_acc', \n",
    "                                            patience=3, \n",
    "                                            verbose=1, \n",
    "                                            factor=0.5, \n",
    "                                            min_lr=0.00001)"
   ]
  },
  {
   "cell_type": "markdown",
   "metadata": {
    "_uuid": "ee70861394de8ca8bea6d611ffbe8dd8d9d3b9f2"
   },
   "source": [
    "In order to make the optimizer converge faster and closest to the global minimum of the loss function, i used an annealing method of the learning rate (LR).\n",
    "\n",
    "The LR is the step by which the optimizer walks through the 'loss landscape'. The higher LR, the bigger are the steps and the quicker is the convergence. However the sampling is very poor with an high LR and the optimizer could probably fall into a local minima.\n",
    "\n",
    "Its better to have a decreasing learning rate during the training to reach efficiently the global minimum of the loss function.\n",
    "\n",
    "To keep the advantage of the fast computation time with a high LR, i decreased the LR dynamically every X steps (epochs) depending if it is necessary (when accuracy is not improved).\n",
    "\n",
    "With the ReduceLROnPlateau function from Keras.callbacks, i choose to reduce the LR by half if the accuracy is not improved after 3 epochs."
   ]
  },
  {
   "cell_type": "markdown",
   "metadata": {
    "_uuid": "84be7b2fa9289e5653d779e8ecc75a5b612500d7"
   },
   "source": [
    "# Data Augmentation\n",
    "It is the optional step. In order to avoid overfitting problem, we need to expand artificially our HAM 10000 dataset. We can make your existing dataset even larger. The idea is to alter the training data with small transformations to reproduce the variations \n",
    "\n",
    "Approaches that alter the training data in ways that change the array representation while keeping the label the same are known as data augmentation techniques. Some popular augmentations people use are grayscales, horizontal flips, vertical flips, random crops, color jitters, translations, rotations, and much more.\n",
    "\n",
    "By applying just a couple of these transformations to our training data, we can easily double or triple the number of training examples and create a very robust model."
   ]
  },
  {
   "cell_type": "code",
   "execution_count": null,
   "metadata": {
    "_uuid": "9eb25849d947e28d0daa18df08fa9ab84043263a"
   },
   "outputs": [],
   "source": [
    "# With data augmentation to prevent overfitting \n",
    "\n",
    "datagen = ImageDataGenerator(\n",
    "        featurewise_center=False,  # set input mean to 0 over the dataset\n",
    "        samplewise_center=False,  # set each sample mean to 0\n",
    "        featurewise_std_normalization=False,  # divide inputs by std of the dataset\n",
    "        samplewise_std_normalization=False,  # divide each input by its std\n",
    "        zca_whitening=False,  # apply ZCA whitening\n",
    "        rotation_range=10,  # randomly rotate images in the range (degrees, 0 to 180)\n",
    "        zoom_range = 0.1, # Randomly zoom image \n",
    "        width_shift_range=0.1,  # randomly shift images horizontally (fraction of total width)\n",
    "        height_shift_range=0.1,  # randomly shift images vertically (fraction of total height)\n",
    "        horizontal_flip=False,  # randomly flip images\n",
    "        vertical_flip=False)  # randomly flip images\n",
    "\n",
    "datagen.fit(x_train)\n"
   ]
  },
  {
   "cell_type": "markdown",
   "metadata": {
    "_uuid": "1dffc6cc83cb5c8940410f1c73d0a4074f8efe10"
   },
   "source": [
    "For the data augmentation, i choosed to :\n",
    "Randomly rotate some training images by 10 degrees Randomly Zoom by 10% some training images Randomly shift images horizontally by 10% of the width Randomly shift images vertically by 10% of the height \n",
    "Once our model is ready, we fit the training dataset ."
   ]
  },
  {
   "cell_type": "markdown",
   "metadata": {
    "_uuid": "e7644b4ef037b8e051466691e2e2197364be43b2"
   },
   "source": [
    "# Step 13: Fitting the model\n",
    "In this step finally I fit the model into x_train, y_train. In this step I have choosen batch size of 10 and 50 epochs   as small as your batch size will be more efficiently your model will train and I have choosen 50 epochs to give the model sufficient epochs to train "
   ]
  },
  {
   "cell_type": "code",
   "execution_count": null,
   "metadata": {
    "_uuid": "55083e7f7d76cb7131b655701021ba2745627c43"
   },
   "outputs": [],
   "source": [
    "# Fit the model\n",
    "epochs = 50 \n",
    "batch_size = 10\n",
    "history = model.fit_generator(datagen.flow(x_train,y_train, batch_size=batch_size),\n",
    "                              epochs = epochs, validation_data = (x_validate,y_validate),\n",
    "                              verbose = 1, steps_per_epoch=x_train.shape[0] // batch_size\n",
    "                              , callbacks=[learning_rate_reduction])"
   ]
  },
  {
   "cell_type": "markdown",
   "metadata": {
    "_uuid": "6d4fc72b2aa6fb8848c51257affb6fb872efb725"
   },
   "source": [
    "# Step 14: Model Evaluation \n",
    "In this step we will check the testing accuracy and validation accuracy of our model,plot confusion matrix and also check the missclassified images count of each type"
   ]
  },
  {
   "cell_type": "code",
   "execution_count": null,
   "metadata": {
    "_uuid": "23eb3c8cbfcd575973d680898e6235b818ed241a"
   },
   "outputs": [],
   "source": [
    "loss, accuracy = model.evaluate(x_test, y_test, verbose=1)\n",
    "loss_v, accuracy_v = model.evaluate(x_validate, y_validate, verbose=1)\n",
    "print(\"Validation: accuracy = %f  ;  loss_v = %f\" % (accuracy_v, loss_v))\n",
    "print(\"Test: accuracy = %f  ;  loss = %f\" % (accuracy, loss))\n",
    "model.save(\"model.h5\")\n"
   ]
  },
  {
   "cell_type": "code",
   "execution_count": null,
   "metadata": {
    "_uuid": "7b1b665dacff5521aa9d5c2c0926119a3829d623"
   },
   "outputs": [],
   "source": [
    "plot_model_history(history)"
   ]
  },
  {
   "cell_type": "code",
   "execution_count": null,
   "metadata": {
    "_uuid": "b43ebca1425823701fc4fc349af72b5fe8677e04"
   },
   "outputs": [],
   "source": [
    "# Function to plot confusion matrix    \n",
    "def plot_confusion_matrix(cm, classes,\n",
    "                          normalize=False,\n",
    "                          title='Confusion matrix',\n",
    "                          cmap=plt.cm.Blues):\n",
    "    \"\"\"\n",
    "    This function prints and plots the confusion matrix.\n",
    "    Normalization can be applied by setting `normalize=True`.\n",
    "    \"\"\"\n",
    "    plt.imshow(cm, interpolation='nearest', cmap=cmap)\n",
    "    plt.title(title)\n",
    "    plt.colorbar()\n",
    "    tick_marks = np.arange(len(classes))\n",
    "    plt.xticks(tick_marks, classes, rotation=45)\n",
    "    plt.yticks(tick_marks, classes)\n",
    "\n",
    "    if normalize:\n",
    "        cm = cm.astype('float') / cm.sum(axis=1)[:, np.newaxis]\n",
    "\n",
    "    thresh = cm.max() / 2.\n",
    "    for i, j in itertools.product(range(cm.shape[0]), range(cm.shape[1])):\n",
    "        plt.text(j, i, cm[i, j],\n",
    "                 horizontalalignment=\"center\",\n",
    "                 color=\"white\" if cm[i, j] > thresh else \"black\")\n",
    "\n",
    "    plt.tight_layout()\n",
    "    plt.ylabel('True label')\n",
    "    plt.xlabel('Predicted label')\n",
    "\n",
    "# Predict the values from the validation dataset\n",
    "Y_pred = model.predict(x_validate)\n",
    "# Convert predictions classes to one hot vectors \n",
    "Y_pred_classes = np.argmax(Y_pred,axis = 1) \n",
    "# Convert validation observations to one hot vectors\n",
    "Y_true = np.argmax(y_validate,axis = 1) \n",
    "# compute the confusion matrix\n",
    "confusion_mtx = confusion_matrix(Y_true, Y_pred_classes)\n",
    "\n",
    " \n",
    "\n",
    "# plot the confusion matrix\n",
    "plot_confusion_matrix(confusion_mtx, classes = range(7)) "
   ]
  },
  {
   "cell_type": "markdown",
   "metadata": {
    "_uuid": "4db6351f7614f4be476a985ed5eeab24943f36dc"
   },
   "source": [
    "Now, lets which category has much incorrect predictions"
   ]
  },
  {
   "cell_type": "code",
   "execution_count": null,
   "metadata": {
    "_uuid": "e8499e6c3506c816ea86ca97c8461d5c040b6a3e"
   },
   "outputs": [],
   "source": [
    "label_frac_error = 1 - np.diag(confusion_mtx) / np.sum(confusion_mtx, axis=1)\n",
    "plt.bar(np.arange(7),label_frac_error)\n",
    "plt.xlabel('True Label')\n",
    "plt.ylabel('Fraction classified incorrectly')"
   ]
  },
  {
   "cell_type": "markdown",
   "metadata": {
    "_uuid": "08f770804c454d643ee3774a9843bcf155a7436f"
   },
   "source": [
    "# Conclusion\n",
    "It seems our model has maximum number of incorrect predictions for Basal cell carcinoma which has code 3, then second most missclassified type is Vascular lesions code 5 then Melanocytic nevi code  0 where as Actinic keratoses code 4 has least misclassified type.\n",
    "\n",
    "We can also further tune our model to easily achieve the accuracy above 80% and I think still this model is efficient in comparison to detection with human eyes having 77.0344% accuracy \n",
    "\n",
    "I hope kagglers like my stepwise approach to classify cancer types. If like then kindly dont forget to hit the **like**\n"
   ]
  },
  {
   "cell_type": "code",
   "execution_count": null,
   "metadata": {
    "_uuid": "e78862469a6b3df331180843ecbb41dd5a182314"
   },
   "outputs": [],
   "source": []
  }
 ],
 "metadata": {
  "kernelspec": {
   "display_name": "Python 3.7.5 64-bit ('.env': virtualenv)",
   "language": "python",
   "name": "python37564bitenvvirtualenvd8dcbfb962e9440fa6fc962808c27737"
  },
  "language_info": {
   "codemirror_mode": {
    "name": "ipython",
    "version": 3
   },
   "file_extension": ".py",
   "mimetype": "text/x-python",
   "name": "python",
   "nbconvert_exporter": "python",
   "pygments_lexer": "ipython3",
   "version": "3.7.5-final"
  }
 },
 "nbformat": 4,
 "nbformat_minor": 1
}